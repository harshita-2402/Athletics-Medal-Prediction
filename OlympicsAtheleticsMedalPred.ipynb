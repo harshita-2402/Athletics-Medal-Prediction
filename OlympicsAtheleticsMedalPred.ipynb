{
  "nbformat": 4,
  "nbformat_minor": 0,
  "metadata": {
    "colab": {
      "name": "OlympicsAtheleticsMedalPred.ipynb",
      "provenance": []
    },
    "kernelspec": {
      "name": "python3",
      "display_name": "Python 3"
    },
    "language_info": {
      "name": "python"
    }
  },
  "cells": [
    {
      "cell_type": "markdown",
      "metadata": {
        "id": "wcIRDupN58Dx"
      },
      "source": [
        "# ATHLETICS MEDAL PREDICTION\n",
        "\n",
        "\n",
        "---\n",
        "\n",
        "## **Predicting probability of an athlete winning a medal in the Olympics.**\n",
        "\n",
        "Dataset used: 120 years of Olympic history: athletes and results\n",
        "\n",
        "basic bio data on athletes and medal results from Athens 1896 to Rio 2016\n",
        "\n"
      ]
    },
    {
      "cell_type": "markdown",
      "metadata": {
        "id": "MxhKKxZA6wAC"
      },
      "source": [
        "### IMPORTING LIBRARIES AND DATASET"
      ]
    },
    {
      "cell_type": "code",
      "metadata": {
        "id": "-WWMroAvLgEE"
      },
      "source": [
        "import pandas as pd\n",
        "import numpy as np\n",
        "import matplotlib.pyplot as plt\n",
        "import seaborn as sns\n",
        "%matplotlib inline\n",
        "sns.set_style('whitegrid')\n",
        "\n",
        "import warnings\n",
        "warnings.filterwarnings('ignore')\n",
        "\n"
      ],
      "execution_count": null,
      "outputs": []
    },
    {
      "cell_type": "code",
      "metadata": {
        "id": "0mgNFNbcDXNJ"
      },
      "source": [
        "from sklearn.preprocessing import StandardScaler\n",
        "from sklearn.model_selection import train_test_split\n",
        "\n",
        "import tensorflow as tf\n",
        "\n",
        "from sklearn.metrics import classification_report, confusion_matrix\n"
      ],
      "execution_count": null,
      "outputs": []
    },
    {
      "cell_type": "code",
      "metadata": {
        "id": "QPtLgGkjDY0X"
      },
      "source": [
        "tf.random.set_seed(100)"
      ],
      "execution_count": null,
      "outputs": []
    },
    {
      "cell_type": "code",
      "metadata": {
        "id": "Xxle84bINBzb"
      },
      "source": [
        "data = pd.read_csv('/content/drive/MyDrive/archive (2)/athlete_events.csv')\n",
        "#events = data\n",
        "noc_regions = pd.read_csv('/content/drive/MyDrive/archive (2)/noc_regions.csv')"
      ],
      "execution_count": null,
      "outputs": []
    },
    {
      "cell_type": "code",
      "metadata": {
        "id": "-bNocsAWPhhs"
      },
      "source": [
        "data2 = data[data.Sport != 'Art Competitions'] #exclude art competitions\n",
        "data3 = data2[data2.Sport == 'Athletics'] #examines only Athletics sport"
      ],
      "execution_count": null,
      "outputs": []
    },
    {
      "cell_type": "markdown",
      "metadata": {
        "id": "21wcfekf7G--"
      },
      "source": [
        "### EDA: Analysing the dataset for the athletics sport and DATA CLEANING"
      ]
    },
    {
      "cell_type": "code",
      "metadata": {
        "colab": {
          "base_uri": "https://localhost:8080/",
          "height": 279
        },
        "id": "V-8ZdQYZNR5Q",
        "outputId": "cdb97dcf-b9b3-495b-c177-44f11aa8a5e3"
      },
      "source": [
        "data3.head()"
      ],
      "execution_count": null,
      "outputs": [
        {
          "output_type": "execute_result",
          "data": {
            "text/html": [
              "<div>\n",
              "<style scoped>\n",
              "    .dataframe tbody tr th:only-of-type {\n",
              "        vertical-align: middle;\n",
              "    }\n",
              "\n",
              "    .dataframe tbody tr th {\n",
              "        vertical-align: top;\n",
              "    }\n",
              "\n",
              "    .dataframe thead th {\n",
              "        text-align: right;\n",
              "    }\n",
              "</style>\n",
              "<table border=\"1\" class=\"dataframe\">\n",
              "  <thead>\n",
              "    <tr style=\"text-align: right;\">\n",
              "      <th></th>\n",
              "      <th>ID</th>\n",
              "      <th>Name</th>\n",
              "      <th>Sex</th>\n",
              "      <th>Age</th>\n",
              "      <th>Height</th>\n",
              "      <th>Weight</th>\n",
              "      <th>Team</th>\n",
              "      <th>NOC</th>\n",
              "      <th>Games</th>\n",
              "      <th>Year</th>\n",
              "      <th>Season</th>\n",
              "      <th>City</th>\n",
              "      <th>Sport</th>\n",
              "      <th>Event</th>\n",
              "      <th>Medal</th>\n",
              "    </tr>\n",
              "  </thead>\n",
              "  <tbody>\n",
              "    <tr>\n",
              "      <th>26</th>\n",
              "      <td>8</td>\n",
              "      <td>Cornelia \"Cor\" Aalten (-Strannood)</td>\n",
              "      <td>F</td>\n",
              "      <td>18.0</td>\n",
              "      <td>168.0</td>\n",
              "      <td>NaN</td>\n",
              "      <td>Netherlands</td>\n",
              "      <td>NED</td>\n",
              "      <td>1932 Summer</td>\n",
              "      <td>1932</td>\n",
              "      <td>Summer</td>\n",
              "      <td>Los Angeles</td>\n",
              "      <td>Athletics</td>\n",
              "      <td>Athletics Women's 100 metres</td>\n",
              "      <td>NaN</td>\n",
              "    </tr>\n",
              "    <tr>\n",
              "      <th>27</th>\n",
              "      <td>8</td>\n",
              "      <td>Cornelia \"Cor\" Aalten (-Strannood)</td>\n",
              "      <td>F</td>\n",
              "      <td>18.0</td>\n",
              "      <td>168.0</td>\n",
              "      <td>NaN</td>\n",
              "      <td>Netherlands</td>\n",
              "      <td>NED</td>\n",
              "      <td>1932 Summer</td>\n",
              "      <td>1932</td>\n",
              "      <td>Summer</td>\n",
              "      <td>Los Angeles</td>\n",
              "      <td>Athletics</td>\n",
              "      <td>Athletics Women's 4 x 100 metres Relay</td>\n",
              "      <td>NaN</td>\n",
              "    </tr>\n",
              "    <tr>\n",
              "      <th>57</th>\n",
              "      <td>18</td>\n",
              "      <td>Timo Antero Aaltonen</td>\n",
              "      <td>M</td>\n",
              "      <td>31.0</td>\n",
              "      <td>189.0</td>\n",
              "      <td>130.0</td>\n",
              "      <td>Finland</td>\n",
              "      <td>FIN</td>\n",
              "      <td>2000 Summer</td>\n",
              "      <td>2000</td>\n",
              "      <td>Summer</td>\n",
              "      <td>Sydney</td>\n",
              "      <td>Athletics</td>\n",
              "      <td>Athletics Men's Shot Put</td>\n",
              "      <td>NaN</td>\n",
              "    </tr>\n",
              "    <tr>\n",
              "      <th>94</th>\n",
              "      <td>31</td>\n",
              "      <td>Evald rma (rman-)</td>\n",
              "      <td>M</td>\n",
              "      <td>24.0</td>\n",
              "      <td>174.0</td>\n",
              "      <td>70.0</td>\n",
              "      <td>Estonia</td>\n",
              "      <td>EST</td>\n",
              "      <td>1936 Summer</td>\n",
              "      <td>1936</td>\n",
              "      <td>Summer</td>\n",
              "      <td>Berlin</td>\n",
              "      <td>Athletics</td>\n",
              "      <td>Athletics Men's Pole Vault</td>\n",
              "      <td>NaN</td>\n",
              "    </tr>\n",
              "    <tr>\n",
              "      <th>95</th>\n",
              "      <td>32</td>\n",
              "      <td>Olav Augunson Aarnes</td>\n",
              "      <td>M</td>\n",
              "      <td>23.0</td>\n",
              "      <td>NaN</td>\n",
              "      <td>NaN</td>\n",
              "      <td>Norway</td>\n",
              "      <td>NOR</td>\n",
              "      <td>1912 Summer</td>\n",
              "      <td>1912</td>\n",
              "      <td>Summer</td>\n",
              "      <td>Stockholm</td>\n",
              "      <td>Athletics</td>\n",
              "      <td>Athletics Men's High Jump</td>\n",
              "      <td>NaN</td>\n",
              "    </tr>\n",
              "  </tbody>\n",
              "</table>\n",
              "</div>"
            ],
            "text/plain": [
              "    ID  ... Medal\n",
              "26   8  ...   NaN\n",
              "27   8  ...   NaN\n",
              "57  18  ...   NaN\n",
              "94  31  ...   NaN\n",
              "95  32  ...   NaN\n",
              "\n",
              "[5 rows x 15 columns]"
            ]
          },
          "metadata": {
            "tags": []
          },
          "execution_count": 7
        }
      ]
    },
    {
      "cell_type": "code",
      "metadata": {
        "colab": {
          "base_uri": "https://localhost:8080/",
          "height": 284
        },
        "id": "Zi9TRSpmNWgP",
        "outputId": "b6241410-a774-4195-d958-c35c7c0f2491"
      },
      "source": [
        "data3.describe()"
      ],
      "execution_count": null,
      "outputs": [
        {
          "output_type": "execute_result",
          "data": {
            "text/html": [
              "<div>\n",
              "<style scoped>\n",
              "    .dataframe tbody tr th:only-of-type {\n",
              "        vertical-align: middle;\n",
              "    }\n",
              "\n",
              "    .dataframe tbody tr th {\n",
              "        vertical-align: top;\n",
              "    }\n",
              "\n",
              "    .dataframe thead th {\n",
              "        text-align: right;\n",
              "    }\n",
              "</style>\n",
              "<table border=\"1\" class=\"dataframe\">\n",
              "  <thead>\n",
              "    <tr style=\"text-align: right;\">\n",
              "      <th></th>\n",
              "      <th>ID</th>\n",
              "      <th>Age</th>\n",
              "      <th>Height</th>\n",
              "      <th>Weight</th>\n",
              "      <th>Year</th>\n",
              "    </tr>\n",
              "  </thead>\n",
              "  <tbody>\n",
              "    <tr>\n",
              "      <th>count</th>\n",
              "      <td>38624.000000</td>\n",
              "      <td>37507.000000</td>\n",
              "      <td>32907.000000</td>\n",
              "      <td>32601.000000</td>\n",
              "      <td>38624.000000</td>\n",
              "    </tr>\n",
              "    <tr>\n",
              "      <th>mean</th>\n",
              "      <td>66880.006214</td>\n",
              "      <td>25.161223</td>\n",
              "      <td>176.256268</td>\n",
              "      <td>69.249287</td>\n",
              "      <td>1975.040182</td>\n",
              "    </tr>\n",
              "    <tr>\n",
              "      <th>std</th>\n",
              "      <td>39283.054916</td>\n",
              "      <td>4.398260</td>\n",
              "      <td>9.314487</td>\n",
              "      <td>15.393693</td>\n",
              "      <td>32.220923</td>\n",
              "    </tr>\n",
              "    <tr>\n",
              "      <th>min</th>\n",
              "      <td>8.000000</td>\n",
              "      <td>12.000000</td>\n",
              "      <td>142.000000</td>\n",
              "      <td>35.000000</td>\n",
              "      <td>1896.000000</td>\n",
              "    </tr>\n",
              "    <tr>\n",
              "      <th>25%</th>\n",
              "      <td>32293.000000</td>\n",
              "      <td>22.000000</td>\n",
              "      <td>170.000000</td>\n",
              "      <td>59.000000</td>\n",
              "      <td>1956.000000</td>\n",
              "    </tr>\n",
              "    <tr>\n",
              "      <th>50%</th>\n",
              "      <td>67403.500000</td>\n",
              "      <td>25.000000</td>\n",
              "      <td>176.000000</td>\n",
              "      <td>67.000000</td>\n",
              "      <td>1984.000000</td>\n",
              "    </tr>\n",
              "    <tr>\n",
              "      <th>75%</th>\n",
              "      <td>100544.000000</td>\n",
              "      <td>28.000000</td>\n",
              "      <td>183.000000</td>\n",
              "      <td>76.000000</td>\n",
              "      <td>2000.000000</td>\n",
              "    </tr>\n",
              "    <tr>\n",
              "      <th>max</th>\n",
              "      <td>135563.000000</td>\n",
              "      <td>52.000000</td>\n",
              "      <td>208.000000</td>\n",
              "      <td>165.000000</td>\n",
              "      <td>2016.000000</td>\n",
              "    </tr>\n",
              "  </tbody>\n",
              "</table>\n",
              "</div>"
            ],
            "text/plain": [
              "                  ID           Age        Height        Weight          Year\n",
              "count   38624.000000  37507.000000  32907.000000  32601.000000  38624.000000\n",
              "mean    66880.006214     25.161223    176.256268     69.249287   1975.040182\n",
              "std     39283.054916      4.398260      9.314487     15.393693     32.220923\n",
              "min         8.000000     12.000000    142.000000     35.000000   1896.000000\n",
              "25%     32293.000000     22.000000    170.000000     59.000000   1956.000000\n",
              "50%     67403.500000     25.000000    176.000000     67.000000   1984.000000\n",
              "75%    100544.000000     28.000000    183.000000     76.000000   2000.000000\n",
              "max    135563.000000     52.000000    208.000000    165.000000   2016.000000"
            ]
          },
          "metadata": {
            "tags": []
          },
          "execution_count": 8
        }
      ]
    },
    {
      "cell_type": "code",
      "metadata": {
        "colab": {
          "base_uri": "https://localhost:8080/"
        },
        "id": "fqOCMZSONcXQ",
        "outputId": "33e0d2f6-8eb7-4332-bd89-9a6ae0031459"
      },
      "source": [
        "data3.info()"
      ],
      "execution_count": null,
      "outputs": [
        {
          "output_type": "stream",
          "text": [
            "<class 'pandas.core.frame.DataFrame'>\n",
            "Int64Index: 38624 entries, 26 to 271103\n",
            "Data columns (total 15 columns):\n",
            " #   Column  Non-Null Count  Dtype  \n",
            "---  ------  --------------  -----  \n",
            " 0   ID      38624 non-null  int64  \n",
            " 1   Name    38624 non-null  object \n",
            " 2   Sex     38624 non-null  object \n",
            " 3   Age     37507 non-null  float64\n",
            " 4   Height  32907 non-null  float64\n",
            " 5   Weight  32601 non-null  float64\n",
            " 6   Team    38624 non-null  object \n",
            " 7   NOC     38624 non-null  object \n",
            " 8   Games   38624 non-null  object \n",
            " 9   Year    38624 non-null  int64  \n",
            " 10  Season  38624 non-null  object \n",
            " 11  City    38624 non-null  object \n",
            " 12  Sport   38624 non-null  object \n",
            " 13  Event   38624 non-null  object \n",
            " 14  Medal   3969 non-null   object \n",
            "dtypes: float64(3), int64(2), object(10)\n",
            "memory usage: 4.7+ MB\n"
          ],
          "name": "stdout"
        }
      ]
    },
    {
      "cell_type": "code",
      "metadata": {
        "colab": {
          "base_uri": "https://localhost:8080/"
        },
        "id": "387jnmyyNfpl",
        "outputId": "9fea188e-2fec-4b95-b742-45bc6edc17c0"
      },
      "source": [
        "data3.isna().sum() # counting null values"
      ],
      "execution_count": null,
      "outputs": [
        {
          "output_type": "execute_result",
          "data": {
            "text/plain": [
              "ID            0\n",
              "Name          0\n",
              "Sex           0\n",
              "Age        1117\n",
              "Height     5717\n",
              "Weight     6023\n",
              "Team          0\n",
              "NOC           0\n",
              "Games         0\n",
              "Year          0\n",
              "Season        0\n",
              "City          0\n",
              "Sport         0\n",
              "Event         0\n",
              "Medal     34655\n",
              "dtype: int64"
            ]
          },
          "metadata": {
            "tags": []
          },
          "execution_count": 10
        }
      ]
    },
    {
      "cell_type": "markdown",
      "metadata": {
        "id": "DQUMQTSt7eoP"
      },
      "source": [
        "Visualising some parameters like height and weight"
      ]
    },
    {
      "cell_type": "code",
      "metadata": {
        "colab": {
          "base_uri": "https://localhost:8080/"
        },
        "id": "m_X2q-hMg7Kz",
        "outputId": "5b8ff41c-c32a-4feb-ae8a-00e468f9761e"
      },
      "source": [
        "data3.Weight.describe().loc[['min','max']]"
      ],
      "execution_count": null,
      "outputs": [
        {
          "output_type": "execute_result",
          "data": {
            "text/plain": [
              "min     35.0\n",
              "max    165.0\n",
              "Name: Weight, dtype: float64"
            ]
          },
          "metadata": {
            "tags": []
          },
          "execution_count": 11
        }
      ]
    },
    {
      "cell_type": "code",
      "metadata": {
        "id": "1F8HbGSaoOAR"
      },
      "source": [
        "import seaborn as sb"
      ],
      "execution_count": null,
      "outputs": []
    },
    {
      "cell_type": "code",
      "metadata": {
        "colab": {
          "base_uri": "https://localhost:8080/",
          "height": 388
        },
        "id": "vbRNzPmOnNXo",
        "outputId": "a52bed6e-3911-41df-fc37-3202c6b82103"
      },
      "source": [
        "plt.figure(figsize=(10,6))\n",
        "bins = np.arange(25,214+2,2)\n",
        "ax = sb.distplot(data3['Weight'], kde=False, bins=bins)\n",
        "ax.set_xlim(25,120)\n",
        "plt.axvline(x=70.7, c='b')\n",
        "plt.axvline(x=data3.Weight.median(), c='c')\n",
        "plt.axvline(x=data3.Weight.mode()[0], c='r');"
      ],
      "execution_count": null,
      "outputs": [
        {
          "output_type": "display_data",
          "data": {
            "image/png": "[encoded data removed]",
            "text/plain": [
              "<Figure size 720x432 with 1 Axes>"
            ]
          },
          "metadata": {
            "tags": []
          }
        }
      ]
    },
    {
      "cell_type": "code",
      "metadata": {
        "colab": {
          "base_uri": "https://localhost:8080/"
        },
        "id": "IPtQ4VN6nR-v",
        "outputId": "947bd07c-21e4-40be-ffbf-1d886aac6d52"
      },
      "source": [
        "data3.Height.describe().loc[['min','max']]"
      ],
      "execution_count": null,
      "outputs": [
        {
          "output_type": "execute_result",
          "data": {
            "text/plain": [
              "min    142.0\n",
              "max    208.0\n",
              "Name: Height, dtype: float64"
            ]
          },
          "metadata": {
            "tags": []
          },
          "execution_count": 14
        }
      ]
    },
    {
      "cell_type": "code",
      "metadata": {
        "colab": {
          "base_uri": "https://localhost:8080/",
          "height": 389
        },
        "id": "aHf06DHunX2g",
        "outputId": "e26f7eea-b9f1-4f06-c935-fe3f1e165c3f"
      },
      "source": [
        "plt.figure(figsize=(10,6))\n",
        "bins = np.arange(127,226+3,3)\n",
        "ax = sb.distplot(data3['Height'], kde=False, bins=bins)\n",
        "ax.set_xlim(140,210)\n",
        "plt.axvline(x=175.34, c = 'b')\n",
        "plt.axvline(x=data3.Height.median(),c='c')\n",
        "plt.axvline(x=data3.Height.mode()[0],c='r');"
      ],
      "execution_count": null,
      "outputs": [
        {
          "output_type": "display_data",
          "data": {
            "image/png": "[encoded data removed]",
            "text/plain": [
              "<Figure size 720x432 with 1 Axes>"
            ]
          },
          "metadata": {
            "tags": []
          }
        }
      ]
    },
    {
      "cell_type": "markdown",
      "metadata": {
        "id": "h_Q8s55C7z1o"
      },
      "source": [
        "Let's see some top athletes and countries statistics"
      ]
    },
    {
      "cell_type": "code",
      "metadata": {
        "colab": {
          "base_uri": "https://localhost:8080/",
          "height": 491
        },
        "id": "uL-Fvnpi1nIy",
        "outputId": "a55a8387-b787-4ffe-dc18-2aae611e1f09"
      },
      "source": [
        "top_medal_athletes = data3.groupby('Name').Medal.count().reset_index(name='Count') \\\n",
        "                                             .sort_values(by='Count', ascending=False).head(15)\n",
        "top_medal_athletes"
      ],
      "execution_count": null,
      "outputs": [
        {
          "output_type": "execute_result",
          "data": {
            "text/html": [
              "<div>\n",
              "<style scoped>\n",
              "    .dataframe tbody tr th:only-of-type {\n",
              "        vertical-align: middle;\n",
              "    }\n",
              "\n",
              "    .dataframe tbody tr th {\n",
              "        vertical-align: top;\n",
              "    }\n",
              "\n",
              "    .dataframe thead th {\n",
              "        text-align: right;\n",
              "    }\n",
              "</style>\n",
              "<table border=\"1\" class=\"dataframe\">\n",
              "  <thead>\n",
              "    <tr style=\"text-align: right;\">\n",
              "      <th></th>\n",
              "      <th>Name</th>\n",
              "      <th>Count</th>\n",
              "    </tr>\n",
              "  </thead>\n",
              "  <tbody>\n",
              "    <tr>\n",
              "      <th>15956</th>\n",
              "      <td>Paavo Johannes Nurmi</td>\n",
              "      <td>12</td>\n",
              "    </tr>\n",
              "    <tr>\n",
              "      <th>17024</th>\n",
              "      <td>Raymond Clarence \"Ray\" Ewry</td>\n",
              "      <td>10</td>\n",
              "    </tr>\n",
              "    <tr>\n",
              "      <th>6367</th>\n",
              "      <td>Frederick Carlton \"Carl\" Lewis</td>\n",
              "      <td>10</td>\n",
              "    </tr>\n",
              "    <tr>\n",
              "      <th>13709</th>\n",
              "      <td>Martin Joseph Sheridan</td>\n",
              "      <td>9</td>\n",
              "    </tr>\n",
              "    <tr>\n",
              "      <th>14091</th>\n",
              "      <td>Merlene Joyce Ottey-Page</td>\n",
              "      <td>9</td>\n",
              "    </tr>\n",
              "    <tr>\n",
              "      <th>955</th>\n",
              "      <td>Allyson Michelle Felix</td>\n",
              "      <td>9</td>\n",
              "    </tr>\n",
              "    <tr>\n",
              "      <th>20385</th>\n",
              "      <td>Veronica Angella Campbell-Brown</td>\n",
              "      <td>8</td>\n",
              "    </tr>\n",
              "    <tr>\n",
              "      <th>20142</th>\n",
              "      <td>Usain St. Leo Bolt</td>\n",
              "      <td>8</td>\n",
              "    </tr>\n",
              "    <tr>\n",
              "      <th>20508</th>\n",
              "      <td>Viljo Eino \"Ville\" Ritola (Koukkari-)</td>\n",
              "      <td>8</td>\n",
              "    </tr>\n",
              "    <tr>\n",
              "      <th>8675</th>\n",
              "      <td>Irena Szewiska-Kirszenstein</td>\n",
              "      <td>7</td>\n",
              "    </tr>\n",
              "    <tr>\n",
              "      <th>18567</th>\n",
              "      <td>Shirley Barbara Strickland de la Hunty</td>\n",
              "      <td>7</td>\n",
              "    </tr>\n",
              "    <tr>\n",
              "      <th>8975</th>\n",
              "      <td>Jacqueline \"Jackie\" Joyner-Kersee</td>\n",
              "      <td>6</td>\n",
              "    </tr>\n",
              "    <tr>\n",
              "      <th>9113</th>\n",
              "      <td>James Davies \"Jim\" Lightbody</td>\n",
              "      <td>6</td>\n",
              "    </tr>\n",
              "    <tr>\n",
              "      <th>17182</th>\n",
              "      <td>Renate Stecher (Meiner-)</td>\n",
              "      <td>6</td>\n",
              "    </tr>\n",
              "    <tr>\n",
              "      <th>16939</th>\n",
              "      <td>Ralph Waldo Rose</td>\n",
              "      <td>6</td>\n",
              "    </tr>\n",
              "  </tbody>\n",
              "</table>\n",
              "</div>"
            ],
            "text/plain": [
              "                                         Name  Count\n",
              "15956                    Paavo Johannes Nurmi     12\n",
              "17024             Raymond Clarence \"Ray\" Ewry     10\n",
              "6367           Frederick Carlton \"Carl\" Lewis     10\n",
              "13709                  Martin Joseph Sheridan      9\n",
              "14091                Merlene Joyce Ottey-Page      9\n",
              "955                    Allyson Michelle Felix      9\n",
              "20385         Veronica Angella Campbell-Brown      8\n",
              "20142                      Usain St. Leo Bolt      8\n",
              "20508   Viljo Eino \"Ville\" Ritola (Koukkari-)      8\n",
              "8675              Irena Szewiska-Kirszenstein      7\n",
              "18567  Shirley Barbara Strickland de la Hunty      7\n",
              "8975        Jacqueline \"Jackie\" Joyner-Kersee      6\n",
              "9113             James Davies \"Jim\" Lightbody      6\n",
              "17182                Renate Stecher (Meiner-)      6\n",
              "16939                        Ralph Waldo Rose      6"
            ]
          },
          "metadata": {
            "tags": []
          },
          "execution_count": 16
        }
      ]
    },
    {
      "cell_type": "code",
      "metadata": {
        "colab": {
          "base_uri": "https://localhost:8080/",
          "height": 491
        },
        "id": "XIYweg7L2KNo",
        "outputId": "199891e2-f62f-4a55-9331-5cc29eef4c1e"
      },
      "source": [
        "top_medal_teams = data3.groupby('Team').Medal.count().reset_index(name='Count') \\\n",
        "                                          .sort_values(by='Count', ascending=False).head(15)\n",
        "top_medal_teams"
      ],
      "execution_count": null,
      "outputs": [
        {
          "output_type": "execute_result",
          "data": {
            "text/html": [
              "<div>\n",
              "<style scoped>\n",
              "    .dataframe tbody tr th:only-of-type {\n",
              "        vertical-align: middle;\n",
              "    }\n",
              "\n",
              "    .dataframe tbody tr th {\n",
              "        vertical-align: top;\n",
              "    }\n",
              "\n",
              "    .dataframe thead th {\n",
              "        text-align: right;\n",
              "    }\n",
              "</style>\n",
              "<table border=\"1\" class=\"dataframe\">\n",
              "  <thead>\n",
              "    <tr style=\"text-align: right;\">\n",
              "      <th></th>\n",
              "      <th>Team</th>\n",
              "      <th>Count</th>\n",
              "    </tr>\n",
              "  </thead>\n",
              "  <tbody>\n",
              "    <tr>\n",
              "      <th>218</th>\n",
              "      <td>United States</td>\n",
              "      <td>1071</td>\n",
              "    </tr>\n",
              "    <tr>\n",
              "      <th>79</th>\n",
              "      <td>Great Britain</td>\n",
              "      <td>334</td>\n",
              "    </tr>\n",
              "    <tr>\n",
              "      <th>193</th>\n",
              "      <td>Soviet Union</td>\n",
              "      <td>242</td>\n",
              "    </tr>\n",
              "    <tr>\n",
              "      <th>100</th>\n",
              "      <td>Jamaica</td>\n",
              "      <td>156</td>\n",
              "    </tr>\n",
              "    <tr>\n",
              "      <th>77</th>\n",
              "      <td>Germany</td>\n",
              "      <td>154</td>\n",
              "    </tr>\n",
              "    <tr>\n",
              "      <th>62</th>\n",
              "      <td>East Germany</td>\n",
              "      <td>140</td>\n",
              "    </tr>\n",
              "    <tr>\n",
              "      <th>72</th>\n",
              "      <td>Finland</td>\n",
              "      <td>138</td>\n",
              "    </tr>\n",
              "    <tr>\n",
              "      <th>199</th>\n",
              "      <td>Sweden</td>\n",
              "      <td>128</td>\n",
              "    </tr>\n",
              "    <tr>\n",
              "      <th>73</th>\n",
              "      <td>France</td>\n",
              "      <td>110</td>\n",
              "    </tr>\n",
              "    <tr>\n",
              "      <th>168</th>\n",
              "      <td>Russia</td>\n",
              "      <td>103</td>\n",
              "    </tr>\n",
              "    <tr>\n",
              "      <th>104</th>\n",
              "      <td>Kenya</td>\n",
              "      <td>99</td>\n",
              "    </tr>\n",
              "    <tr>\n",
              "      <th>36</th>\n",
              "      <td>Canada</td>\n",
              "      <td>98</td>\n",
              "    </tr>\n",
              "    <tr>\n",
              "      <th>12</th>\n",
              "      <td>Australia</td>\n",
              "      <td>88</td>\n",
              "    </tr>\n",
              "    <tr>\n",
              "      <th>160</th>\n",
              "      <td>Poland</td>\n",
              "      <td>72</td>\n",
              "    </tr>\n",
              "    <tr>\n",
              "      <th>99</th>\n",
              "      <td>Italy</td>\n",
              "      <td>72</td>\n",
              "    </tr>\n",
              "  </tbody>\n",
              "</table>\n",
              "</div>"
            ],
            "text/plain": [
              "              Team  Count\n",
              "218  United States   1071\n",
              "79   Great Britain    334\n",
              "193   Soviet Union    242\n",
              "100        Jamaica    156\n",
              "77         Germany    154\n",
              "62    East Germany    140\n",
              "72         Finland    138\n",
              "199         Sweden    128\n",
              "73          France    110\n",
              "168         Russia    103\n",
              "104          Kenya     99\n",
              "36          Canada     98\n",
              "12       Australia     88\n",
              "160         Poland     72\n",
              "99           Italy     72"
            ]
          },
          "metadata": {
            "tags": []
          },
          "execution_count": 17
        }
      ]
    },
    {
      "cell_type": "markdown",
      "metadata": {
        "id": "Mc0Ir_gJ8CDx"
      },
      "source": [
        "Data Cleaning"
      ]
    },
    {
      "cell_type": "code",
      "metadata": {
        "id": "GgT-kVjH-oiS"
      },
      "source": [
        "data3['Medal'] = data3['Medal'].apply(lambda x: 1 if str(x) != 'nan' else 0)"
      ],
      "execution_count": null,
      "outputs": []
    },
    {
      "cell_type": "code",
      "metadata": {
        "id": "deC5wtncuhCM"
      },
      "source": [
        "data3 = data3.drop(['ID', 'Name', 'Games'], axis=1)"
      ],
      "execution_count": null,
      "outputs": []
    },
    {
      "cell_type": "code",
      "metadata": {
        "id": "5mnb-9tppq_j"
      },
      "source": [
        "data3 = data3.drop(['Sport'], axis=1) #there is only one sport- atheletics"
      ],
      "execution_count": null,
      "outputs": []
    },
    {
      "cell_type": "code",
      "metadata": {
        "colab": {
          "base_uri": "https://localhost:8080/"
        },
        "id": "RV77TIWsCRzD",
        "outputId": "d6295dbc-61c1-4342-e47c-b132dae9c306"
      },
      "source": [
        "data3.isna().mean()"
      ],
      "execution_count": null,
      "outputs": [
        {
          "output_type": "execute_result",
          "data": {
            "text/plain": [
              "Sex       0.000000\n",
              "Age       0.028920\n",
              "Height    0.148017\n",
              "Weight    0.155939\n",
              "Team      0.000000\n",
              "NOC       0.000000\n",
              "Year      0.000000\n",
              "Season    0.000000\n",
              "City      0.000000\n",
              "Event     0.000000\n",
              "Medal     0.000000\n",
              "dtype: float64"
            ]
          },
          "metadata": {
            "tags": []
          },
          "execution_count": 21
        }
      ]
    },
    {
      "cell_type": "code",
      "metadata": {
        "colab": {
          "base_uri": "https://localhost:8080/",
          "height": 195
        },
        "id": "BFA6jgzgxBOz",
        "outputId": "4ce529c6-d4f1-4547-966e-4bc95ece9bc4"
      },
      "source": [
        "data3.groupby(['Medal', 'Sex']).mean().astype(np.int)"
      ],
      "execution_count": null,
      "outputs": [
        {
          "output_type": "execute_result",
          "data": {
            "text/html": [
              "<div>\n",
              "<style scoped>\n",
              "    .dataframe tbody tr th:only-of-type {\n",
              "        vertical-align: middle;\n",
              "    }\n",
              "\n",
              "    .dataframe tbody tr th {\n",
              "        vertical-align: top;\n",
              "    }\n",
              "\n",
              "    .dataframe thead th {\n",
              "        text-align: right;\n",
              "    }\n",
              "</style>\n",
              "<table border=\"1\" class=\"dataframe\">\n",
              "  <thead>\n",
              "    <tr style=\"text-align: right;\">\n",
              "      <th></th>\n",
              "      <th></th>\n",
              "      <th>Age</th>\n",
              "      <th>Height</th>\n",
              "      <th>Weight</th>\n",
              "      <th>Year</th>\n",
              "    </tr>\n",
              "    <tr>\n",
              "      <th>Medal</th>\n",
              "      <th>Sex</th>\n",
              "      <th></th>\n",
              "      <th></th>\n",
              "      <th></th>\n",
              "      <th></th>\n",
              "    </tr>\n",
              "  </thead>\n",
              "  <tbody>\n",
              "    <tr>\n",
              "      <th rowspan=\"2\" valign=\"top\">0</th>\n",
              "      <th>F</th>\n",
              "      <td>24</td>\n",
              "      <td>169</td>\n",
              "      <td>59</td>\n",
              "      <td>1991</td>\n",
              "    </tr>\n",
              "    <tr>\n",
              "      <th>M</th>\n",
              "      <td>25</td>\n",
              "      <td>179</td>\n",
              "      <td>73</td>\n",
              "      <td>1969</td>\n",
              "    </tr>\n",
              "    <tr>\n",
              "      <th rowspan=\"2\" valign=\"top\">1</th>\n",
              "      <th>F</th>\n",
              "      <td>25</td>\n",
              "      <td>170</td>\n",
              "      <td>62</td>\n",
              "      <td>1985</td>\n",
              "    </tr>\n",
              "    <tr>\n",
              "      <th>M</th>\n",
              "      <td>24</td>\n",
              "      <td>181</td>\n",
              "      <td>76</td>\n",
              "      <td>1957</td>\n",
              "    </tr>\n",
              "  </tbody>\n",
              "</table>\n",
              "</div>"
            ],
            "text/plain": [
              "           Age  Height  Weight  Year\n",
              "Medal Sex                           \n",
              "0     F     24     169      59  1991\n",
              "      M     25     179      73  1969\n",
              "1     F     25     170      62  1985\n",
              "      M     24     181      76  1957"
            ]
          },
          "metadata": {
            "tags": []
          },
          "execution_count": 22
        }
      ]
    },
    {
      "cell_type": "code",
      "metadata": {
        "id": "uh_tOhLiO10Z"
      },
      "source": [
        "for column in ['Age', 'Height', 'Weight']:\n",
        "    data3[column] = data3.groupby(['Medal', 'Sex'])[column].apply(lambda x: x.fillna(x.mean()).astype(np.int))"
      ],
      "execution_count": null,
      "outputs": []
    },
    {
      "cell_type": "code",
      "metadata": {
        "colab": {
          "base_uri": "https://localhost:8080/"
        },
        "id": "tOo3dYn1CE2S",
        "outputId": "29f2a77d-6cbb-4ec7-b764-368dc1c780fc"
      },
      "source": [
        "data3.isna().sum()"
      ],
      "execution_count": null,
      "outputs": [
        {
          "output_type": "execute_result",
          "data": {
            "text/plain": [
              "Sex       0\n",
              "Age       0\n",
              "Height    0\n",
              "Weight    0\n",
              "Team      0\n",
              "NOC       0\n",
              "Year      0\n",
              "Season    0\n",
              "City      0\n",
              "Event     0\n",
              "Medal     0\n",
              "dtype: int64"
            ]
          },
          "metadata": {
            "tags": []
          },
          "execution_count": 24
        }
      ]
    },
    {
      "cell_type": "code",
      "metadata": {
        "colab": {
          "base_uri": "https://localhost:8080/"
        },
        "id": "Og_pjLHLxBce",
        "outputId": "baa70bf0-f9d7-4766-a8db-bdef6ae59d7f"
      },
      "source": [
        "#non numeric values\n",
        "{column: len(data3[column].unique()) for column in data3.select_dtypes('object').columns}"
      ],
      "execution_count": null,
      "outputs": [
        {
          "output_type": "execute_result",
          "data": {
            "text/plain": [
              "{'City': 23, 'Event': 83, 'NOC': 227, 'Season': 1, 'Sex': 2, 'Team': 231}"
            ]
          },
          "metadata": {
            "tags": []
          },
          "execution_count": 25
        }
      ]
    },
    {
      "cell_type": "code",
      "metadata": {
        "id": "lUDFG4UczUKl"
      },
      "source": [
        "#encoding\n",
        "\n",
        "def binary_encode(df, columns, positive_values):\n",
        "    df = df.copy()\n",
        "    for column, positive_value in zip(columns, positive_values):\n",
        "        df[column] = df[column].apply(lambda x: 1 if x == positive_value else 0)\n",
        "    return df\n",
        "\n",
        "def onehot_encode(df, columns, prefixes):\n",
        "    df = df.copy()\n",
        "    for column, prefix in zip(columns, prefixes):\n",
        "        dummies = pd.get_dummies(df[column], prefix=prefix)\n",
        "        df = pd.concat([df, dummies], axis=1)\n",
        "        df = df.drop(column, axis=1)\n",
        "    return df"
      ],
      "execution_count": null,
      "outputs": []
    },
    {
      "cell_type": "code",
      "metadata": {
        "id": "LaGHpBIhzUXq"
      },
      "source": [
        "data3 = binary_encode(\n",
        "    data3,\n",
        "    columns=['Sex', 'Season'],\n",
        "    positive_values=['M', 'Summer']\n",
        ")\n",
        "\n",
        "data3 = onehot_encode(\n",
        "    data3,\n",
        "    columns=['Team', 'NOC', 'City', 'Event'],\n",
        "    prefixes=['T', 'N', 'C', 'E']\n",
        ")"
      ],
      "execution_count": null,
      "outputs": []
    },
    {
      "cell_type": "markdown",
      "metadata": {
        "id": "pp4UCdNj870S"
      },
      "source": [
        "### SPLITTING AND TRAINING"
      ]
    },
    {
      "cell_type": "code",
      "metadata": {
        "id": "XsbJ2ybPzkuF"
      },
      "source": [
        "y = data3['Medal'].copy()\n",
        "X = data3.drop('Medal', axis=1).copy()"
      ],
      "execution_count": null,
      "outputs": []
    },
    {
      "cell_type": "code",
      "metadata": {
        "id": "9wXIBqH26mwb"
      },
      "source": [
        "scaler = StandardScaler()\n",
        "\n",
        "X = scaler.fit_transform(X)"
      ],
      "execution_count": null,
      "outputs": []
    },
    {
      "cell_type": "code",
      "metadata": {
        "id": "fW-KbweV6pFQ"
      },
      "source": [
        "X_train, X_test, y_train, y_test = train_test_split(X, y, train_size=0.7, random_state=100)"
      ],
      "execution_count": null,
      "outputs": []
    },
    {
      "cell_type": "code",
      "metadata": {
        "colab": {
          "base_uri": "https://localhost:8080/"
        },
        "id": "0_ITklkE6pLx",
        "outputId": "4993b667-b706-4bd5-eed8-6f282a0f86b7"
      },
      "source": [
        "X.shape"
      ],
      "execution_count": null,
      "outputs": [
        {
          "output_type": "execute_result",
          "data": {
            "text/plain": [
              "(38624, 570)"
            ]
          },
          "metadata": {
            "tags": []
          },
          "execution_count": 32
        }
      ]
    },
    {
      "cell_type": "code",
      "metadata": {
        "colab": {
          "base_uri": "https://localhost:8080/"
        },
        "id": "67ilehnL6pRm",
        "outputId": "2a42d713-311c-43d0-f2d0-caf817e31ef5"
      },
      "source": [
        "# MODEL\n",
        "\n",
        "inputs = tf.keras.Input(shape=(X.shape[1]))\n",
        "x = tf.keras.layers.Dense(64, activation='relu')(inputs)\n",
        "x = tf.keras.layers.Dense(64, activation='relu')(x)\n",
        "outputs = tf.keras.layers.Dense(1, activation='sigmoid')(x)\n",
        "\n",
        "model = tf.keras.Model(inputs, outputs)\n",
        "\n",
        "\n",
        "model.compile(\n",
        "    optimizer='adam',\n",
        "    loss='binary_crossentropy',\n",
        "    metrics=[\n",
        "        'accuracy',\n",
        "        tf.keras.metrics.AUC(name='auc')\n",
        "    ]\n",
        ")\n",
        "\n",
        "\n",
        "history = model.fit(\n",
        "    X_train,\n",
        "    y_train,\n",
        "    validation_split=0.2,\n",
        "    batch_size=32,\n",
        "    epochs=100,\n",
        "    callbacks=[\n",
        "        tf.keras.callbacks.EarlyStopping(\n",
        "            monitor='val_loss',\n",
        "            patience=3,\n",
        "            restore_best_weights=True\n",
        "        )\n",
        "    ]\n",
        ")"
      ],
      "execution_count": null,
      "outputs": [
        {
          "output_type": "stream",
          "text": [
            "Epoch 1/100\n",
            "676/676 [==============================] - 3s 3ms/step - loss: 0.2981 - accuracy: 0.8998 - auc: 0.7345 - val_loss: 0.2637 - val_accuracy: 0.9055 - val_auc: 0.8109\n",
            "Epoch 2/100\n",
            "676/676 [==============================] - 2s 3ms/step - loss: 0.2526 - accuracy: 0.9096 - auc: 0.8280 - val_loss: 0.2508 - val_accuracy: 0.9105 - val_auc: 0.8329\n",
            "Epoch 3/100\n",
            "676/676 [==============================] - 2s 3ms/step - loss: 0.2284 - accuracy: 0.9137 - auc: 0.8707 - val_loss: 0.2503 - val_accuracy: 0.9149 - val_auc: 0.8300\n",
            "Epoch 4/100\n",
            "676/676 [==============================] - 2s 3ms/step - loss: 0.2214 - accuracy: 0.9139 - auc: 0.8839 - val_loss: 0.2520 - val_accuracy: 0.9120 - val_auc: 0.8340\n",
            "Epoch 5/100\n",
            "676/676 [==============================] - 2s 3ms/step - loss: 0.1995 - accuracy: 0.9249 - auc: 0.9023 - val_loss: 0.2534 - val_accuracy: 0.9122 - val_auc: 0.8334\n",
            "Epoch 6/100\n",
            "676/676 [==============================] - 2s 3ms/step - loss: 0.1980 - accuracy: 0.9223 - auc: 0.9101 - val_loss: 0.2507 - val_accuracy: 0.9133 - val_auc: 0.8394\n"
          ],
          "name": "stdout"
        }
      ]
    },
    {
      "cell_type": "code",
      "metadata": {
        "colab": {
          "base_uri": "https://localhost:8080/"
        },
        "id": "Z65YDYuJ6pTC",
        "outputId": "2d9ab00a-993d-4795-f37d-0f92c6108b01"
      },
      "source": [
        "model.evaluate(X_test, y_test)"
      ],
      "execution_count": null,
      "outputs": [
        {
          "output_type": "stream",
          "text": [
            "363/363 [==============================] - 1s 2ms/step - loss: 0.2591 - accuracy: 0.9063 - auc: 0.8229\n"
          ],
          "name": "stdout"
        },
        {
          "output_type": "execute_result",
          "data": {
            "text/plain": [
              "[0.2590571343898773, 0.906282365322113, 0.8228780627250671]"
            ]
          },
          "metadata": {
            "tags": []
          },
          "execution_count": 34
        }
      ]
    },
    {
      "cell_type": "code",
      "metadata": {
        "id": "NOVkGoeS6pWZ"
      },
      "source": [
        "y_true = np.array(y_test)\n",
        "y_pred = np.squeeze(np.array(model.predict(X_test) >= 0.5, dtype=np.int))"
      ],
      "execution_count": null,
      "outputs": []
    },
    {
      "cell_type": "code",
      "metadata": {
        "colab": {
          "base_uri": "https://localhost:8080/"
        },
        "id": "ofDLZeDC6pZc",
        "outputId": "af402394-fbac-439c-ebd4-5c7bda624d64"
      },
      "source": [
        "print(\"Classification Report:\\n\", classification_report(y_true, y_pred))"
      ],
      "execution_count": null,
      "outputs": [
        {
          "output_type": "stream",
          "text": [
            "Classification Report:\n",
            "\n",
            "               precision    recall  f1-score   support\n",
            "\n",
            "           0       0.92      0.98      0.95     10385\n",
            "           1       0.63      0.23      0.34      1203\n",
            "\n",
            "    accuracy                           0.91     11588\n",
            "   macro avg       0.78      0.61      0.64     11588\n",
            "weighted avg       0.89      0.91      0.89     11588\n",
            "\n"
          ],
          "name": "stdout"
        }
      ]
    },
    {
      "cell_type": "code",
      "metadata": {
        "colab": {
          "base_uri": "https://localhost:8080/"
        },
        "id": "zyRU1XWdDyES",
        "outputId": "0b34913f-a42f-47ce-cfd8-a03df18862b3"
      },
      "source": [
        "print(\"Confusion Matrix:\\n\", confusion_matrix(y_true, y_pred))"
      ],
      "execution_count": null,
      "outputs": [
        {
          "output_type": "stream",
          "text": [
            "Confusion Matrix:\n",
            " [[10225   160]\n",
            " [  926   277]]\n"
          ],
          "name": "stdout"
        }
      ]
    },
    {
      "cell_type": "code",
      "metadata": {
        "id": "TeUe5ICADyOP"
      },
      "source": [
        ""
      ],
      "execution_count": null,
      "outputs": []
    }
  ]
}